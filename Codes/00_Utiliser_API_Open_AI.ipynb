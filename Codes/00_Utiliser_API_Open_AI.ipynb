{
 "cells": [
  {
   "cell_type": "code",
   "execution_count": 18,
   "id": "61317c97",
   "metadata": {},
   "outputs": [
    {
     "name": "stdout",
     "output_type": "stream",
     "text": [
      "Requirement already satisfied: openai in c:\\users\\linkedin\\desktop\\genai-en-finance_5491062\\codes\\iafinance\\lib\\site-packages (1.109.1)\n",
      "Requirement already satisfied: python-dotenv in c:\\users\\linkedin\\desktop\\genai-en-finance_5491062\\codes\\iafinance\\lib\\site-packages (1.1.1)\n",
      "Requirement already satisfied: anyio<5,>=3.5.0 in c:\\users\\linkedin\\desktop\\genai-en-finance_5491062\\codes\\iafinance\\lib\\site-packages (from openai) (4.11.0)\n",
      "Requirement already satisfied: distro<2,>=1.7.0 in c:\\users\\linkedin\\desktop\\genai-en-finance_5491062\\codes\\iafinance\\lib\\site-packages (from openai) (1.9.0)\n",
      "Requirement already satisfied: httpx<1,>=0.23.0 in c:\\users\\linkedin\\desktop\\genai-en-finance_5491062\\codes\\iafinance\\lib\\site-packages (from openai) (0.28.1)\n",
      "Requirement already satisfied: jiter<1,>=0.4.0 in c:\\users\\linkedin\\desktop\\genai-en-finance_5491062\\codes\\iafinance\\lib\\site-packages (from openai) (0.11.0)\n",
      "Requirement already satisfied: pydantic<3,>=1.9.0 in c:\\users\\linkedin\\desktop\\genai-en-finance_5491062\\codes\\iafinance\\lib\\site-packages (from openai) (2.11.9)\n",
      "Requirement already satisfied: sniffio in c:\\users\\linkedin\\desktop\\genai-en-finance_5491062\\codes\\iafinance\\lib\\site-packages (from openai) (1.3.1)\n",
      "Requirement already satisfied: tqdm>4 in c:\\users\\linkedin\\desktop\\genai-en-finance_5491062\\codes\\iafinance\\lib\\site-packages (from openai) (4.67.1)\n",
      "Requirement already satisfied: typing-extensions<5,>=4.11 in c:\\users\\linkedin\\desktop\\genai-en-finance_5491062\\codes\\iafinance\\lib\\site-packages (from openai) (4.15.0)\n",
      "Requirement already satisfied: idna>=2.8 in c:\\users\\linkedin\\desktop\\genai-en-finance_5491062\\codes\\iafinance\\lib\\site-packages (from anyio<5,>=3.5.0->openai) (3.10)\n",
      "Requirement already satisfied: certifi in c:\\users\\linkedin\\desktop\\genai-en-finance_5491062\\codes\\iafinance\\lib\\site-packages (from httpx<1,>=0.23.0->openai) (2025.8.3)\n",
      "Requirement already satisfied: httpcore==1.* in c:\\users\\linkedin\\desktop\\genai-en-finance_5491062\\codes\\iafinance\\lib\\site-packages (from httpx<1,>=0.23.0->openai) (1.0.9)\n",
      "Requirement already satisfied: h11>=0.16 in c:\\users\\linkedin\\desktop\\genai-en-finance_5491062\\codes\\iafinance\\lib\\site-packages (from httpcore==1.*->httpx<1,>=0.23.0->openai) (0.16.0)\n",
      "Requirement already satisfied: annotated-types>=0.6.0 in c:\\users\\linkedin\\desktop\\genai-en-finance_5491062\\codes\\iafinance\\lib\\site-packages (from pydantic<3,>=1.9.0->openai) (0.7.0)\n",
      "Requirement already satisfied: pydantic-core==2.33.2 in c:\\users\\linkedin\\desktop\\genai-en-finance_5491062\\codes\\iafinance\\lib\\site-packages (from pydantic<3,>=1.9.0->openai) (2.33.2)\n",
      "Requirement already satisfied: typing-inspection>=0.4.0 in c:\\users\\linkedin\\desktop\\genai-en-finance_5491062\\codes\\iafinance\\lib\\site-packages (from pydantic<3,>=1.9.0->openai) (0.4.1)\n",
      "Requirement already satisfied: colorama in c:\\users\\linkedin\\desktop\\genai-en-finance_5491062\\codes\\iafinance\\lib\\site-packages (from tqdm>4->openai) (0.4.6)\n",
      "Note: you may need to restart the kernel to use updated packages.\n"
     ]
    }
   ],
   "source": [
    "%pip install --upgrade openai python-dotenv\n"
   ]
  },
  {
   "cell_type": "code",
   "execution_count": 19,
   "id": "29573d31",
   "metadata": {},
   "outputs": [
    {
     "name": "stdout",
     "output_type": "stream",
     "text": [
      "La clé api est sk-p****\n"
     ]
    }
   ],
   "source": [
    "\n",
    "from dotenv import load_dotenv\n",
    "import os\n",
    "from openai import OpenAI\n",
    "\n",
    "load_dotenv()\n",
    "api_key=os.getenv(\"OPENAI_API_KEY\")\n",
    "print(f\"La clé api est {api_key[:4]}****\")\n"
   ]
  },
  {
   "cell_type": "code",
   "execution_count": 20,
   "id": "e626cf24",
   "metadata": {},
   "outputs": [
    {
     "name": "stdout",
     "output_type": "stream",
     "text": [
      "Le cash-flow (flux de trésorerie) est l’argent qui entre et sort d’une entreprise sur une période, indiquant sa capacité à générer des liquidités pour fonctionner, investir et rembourser ses dettes.\n"
     ]
    }
   ],
   "source": [
    "client = OpenAI(api_key=api_key)\n",
    "\n",
    "messages = [\n",
    "    {\"role\": \"system\", \"content\": \"Tu es un assistant pédagogue et concis.\"},\n",
    "    {\"role\": \"user\", \"content\": \"Explique-moi ce qu’est le cash-flow en une phrase.\"}\n",
    "]\n",
    "\n",
    "resp = client.chat.completions.create(\n",
    "    model=\"gpt-5\",       # ou gpt-4.1-mini / gpt-4.1 selon vos accès\n",
    "    messages=messages\n",
    ")\n",
    "\n",
    "print(resp.choices[0].message.content)\n"
   ]
  },
  {
   "cell_type": "code",
   "execution_count": 21,
   "id": "efaafee0",
   "metadata": {},
   "outputs": [
    {
     "name": "stdout",
     "output_type": "stream",
     "text": [
      "Le cash-flow (flux de trésorerie) est le flux net de liquidités entrant et sortant d’une entreprise sur une période, révélant sa capacité à générer de la trésorerie.\n"
     ]
    }
   ],
   "source": [
    "client = OpenAI(api_key=api_key)\n",
    "\n",
    "prompt = \"Explique-moi ce qu’est le cash-flow en une phrase.\"\n",
    "messages = [\n",
    "    {\"role\": \"system\", \"content\": \"Tu es un assistant pédagogue et concis.\"},\n",
    "    {\"role\": \"user\", \"content\": f\"{prompt}\"}\n",
    "]\n",
    "\n",
    "resp = client.chat.completions.create(\n",
    "    model=\"gpt-5\",       # ou gpt-4.1-mini / gpt-4.1 selon vos accès\n",
    "    messages=messages\n",
    ")\n",
    "\n",
    "print(resp.choices[0].message.content)\n"
   ]
  }
 ],
 "metadata": {
  "kernelspec": {
   "display_name": "iafinance",
   "language": "python",
   "name": "python3"
  },
  "language_info": {
   "codemirror_mode": {
    "name": "ipython",
    "version": 3
   },
   "file_extension": ".py",
   "mimetype": "text/x-python",
   "name": "python",
   "nbconvert_exporter": "python",
   "pygments_lexer": "ipython3",
   "version": "3.13.7"
  }
 },
 "nbformat": 4,
 "nbformat_minor": 5
}
